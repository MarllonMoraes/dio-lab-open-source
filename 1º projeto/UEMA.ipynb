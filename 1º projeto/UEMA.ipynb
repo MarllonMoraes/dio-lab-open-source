{
 "cells": [
  {
   "cell_type": "code",
   "execution_count": 1,
   "metadata": {
    "colab": {},
    "colab_type": "code",
    "id": "FFJbOY7M5rpQ",
    "scrolled": false
   },
   "outputs": [],
   "source": [
    "#importar as biblioteca\n",
    "import pandas as pd\n",
    "import seaborn as sns\n",
    "import plotly.graph_objects as go\n",
    "import plotly.offline as po\n",
    "import tkinter as tk\n",
    "from tkinter import messagebox, filedialog\n",
    "import os "
   ]
  },
  {
   "cell_type": "code",
   "execution_count": 2,
   "metadata": {
    "colab": {},
    "colab_type": "code",
    "id": "XKs184in5rqV",
    "scrolled": false
   },
   "outputs": [],
   "source": [
    "cor1 = [\"#000000\", \"#808080\", \"#7B68EE\", \"#4B0082\", \"#BA55D3\", \"#8B008B\", \"#FF00FF\", \"#6A5ACD\", \"#00008B\", \"#00BFFF\", \"#ADD8E6\",\n",
    "       \"#FF69B4\", \"#DC143C\", \"#00FFFF\", \"#8B0000\", \"#E9967A\", \"#FF0000\", \"#D2B48C\", \"#FF8C00\", \"#FFFF00\", \"#2F4F4F\", \"#00FF7F\"]\n",
    "cor = [\"#9ACD32\", \"#808000\", \"#8B4513\", \"#D2691E\", \"#D8BFD8\", \"#AE5687\"]\n",
    "cor.extend(cor1) # Criação de cores em tuplas com extenção das tuplas"
   ]
  },
  {
   "cell_type": "code",
   "execution_count": 3,
   "metadata": {},
   "outputs": [],
   "source": [
    "sns.color_palette('BrBG', 29)\n",
    "sns.set(context='notebook', style='darkgrid', font='sans-serif', font_scale=1.35)\n",
    "#table = ff.create_table(df_glpi)\n",
    "#po.iplot(table, filename='jupyter/table1')\n",
    "#df_glpi.head()"
   ]
  },
  {
   "cell_type": "code",
   "execution_count": null,
   "metadata": {
    "scrolled": true
   },
   "outputs": [],
   "source": [
    "\n",
    "\n",
    "class Tela:\n",
    "    def __init__(self, master=None):\n",
    "        \n",
    "        self.nossatela = master\n",
    "        self.lbl = tk.Label(self.nossatela, text=\"GLPI\", font=('helvetica', 12, 'bold'), bg='#dde')\n",
    "        self.lbl.pack(pady=18)\n",
    "        \n",
    "        botaoAbrir = tk.Button(janelaRaiz, text=\"Abrir Arquivo \", command = self.abrirArquivo,  bg='green', fg='white', font=('helvetica', 12, 'bold'))\n",
    "        botaoAbrir.place(x=200, y=60)#pack()\n",
    "        \n",
    "        self.gera_button = tk.Button(master, text=\"Gerar Relatório\", font=('18'), command=self.dat)\n",
    "        self.gera_button.place(x=200, y=120)#pack()\n",
    "        \n",
    "        df_glpi = pd.DataFrame()\n",
    "        \n",
    "    def abrirArquivo(self):\n",
    "        global df_glpi\n",
    "        \n",
    "        arquivo = filedialog.askopenfilename(initialdir = '/Desktop',defaultextension='.csv', filetypes=[(\"CSV files\",\"*.csv\")])\n",
    "        df_glpi = pd.read_csv(arquivo, sep=';', index_col = 'ID') #Carregar o csv\n",
    "        df_glpi = df_glpi.join(df_glpi['Atribuído para - Técnico'].str.rsplit('\\n', n=3, expand = True).rename({0:'Técnico - Principal', 1:'Técnico - Auxiliar', 2:'Técnico - Auxiliar (2)', 3:'Técnico - Auxiliar (3)'}, axis=1))\n",
    "        df_glpi[['Técnico - Principal','Técnico - Auxiliar','Técnico - Auxiliar (2)']] = df_glpi[['Técnico - Principal','Técnico - Auxiliar','Técnico - Auxiliar (2)']].replace(to_replace=r'\\r', value='', regex=True)\n",
    "        df_glpi['Categoria'].replace({'MANUTENÇÃO':'MANUTENÇÃO > Manutenção', 'REDE':'REDE > Rede', 'SigUEMA':'SIGUEMA > SigUEMA'}, inplace=True)\n",
    "        df_glpi = df_glpi.join(df_glpi['Categoria'].str.rsplit(' > ', n=2, expand = True).rename({0:'Categoria1', 1:'Area', 2:'Sub'}, axis=1))\n",
    "        df_glpi = df_glpi.join(df_glpi['Localização'].str.rsplit(' > ', n=1, expand = True).rename({0:'Predio', 1:'Curso'}, axis=1))\n",
    "        df_glpi = df_glpi.join(df_glpi['Requerente - Autor'].str.split(n=1, expand = True).rename({0:'Cpf', 1:'Helpdesk'}, axis=1))\n",
    "        df_glpi = df_glpi.join(df_glpi['Última atualização'].astype(str).str.rsplit(\"-\", n=1, expand = True).rename({0:'Data', 1:'dia'}, axis=1))\n",
    "        df_glpi.drop(columns=['Atribuído para - Técnico', 'Categoria', 'Categoria1', 'Sub', 'Localização', 'Curso', 'Requerente - Autor', 'Cpf', 'dia', 'Última atualização', 'Unnamed: 13'], inplace=True)\n",
    "\n",
    "        df_glpi['Predio'] = df_glpi['Predio'].map({'ASSUEMA - Associação dos Servidores da UEMA' : 'ASSUEMA'}, na_action=None)\n",
    "        tecn_Aux2 = df_glpi['Técnico - Auxiliar (2)']\n",
    "        tecn_Aux3 = df_glpi['Técnico - Auxiliar (3)']\n",
    "        tecn_Aux = df_glpi['Técnico - Auxiliar']\n",
    "        tecn_Prin = df_glpi['Técnico - Principal']\n",
    "\n",
    "        df_tecn = pd.DataFrame(pd.concat([tecn_Prin, tecn_Aux.dropna(), tecn_Aux2.dropna(), \n",
    "                                          tecn_Aux3.dropna()])).rename({0:'Tecnicos'}, axis=1)\n",
    "        df_final = pd.merge(df_tecn, df_glpi,how='left', on='ID')\n",
    "        df_final.drop(columns=['Técnico - Principal', 'Técnico - Auxiliar', 'Técnico - Auxiliar (2)', \n",
    "                               'Técnico - Auxiliar (3)'], inplace=True)\n",
    "\n",
    "\n",
    "    def dat(self):\n",
    "        self.datas = tk.Entry(width=25, bg='white')\n",
    "        self.datas.place(x=20, y=190)\n",
    "        self.Info1 = tk.Label(font=('Arial', '11', 'bold'), fg='#009', bg='#dde', text='Qual ano e mês (ex: 2020-01): ')\n",
    "        self.Info1.place(x=20, y=170)\n",
    "        self.proximo = tk.Button(width='39', text='Gerar', font=('Arial','10'), command=self.relatorio)\n",
    "        self.proximo.place(x=20, y=220)\n",
    "\n",
    "    def relatorio(self):\n",
    "        data = str(self.datas.get())\n",
    "        df_solu = df_glpi[(df_glpi['Status'] == 'Fechado') | (df_glpi['Status'] == 'Solucionado')]\n",
    "        #data = input('Qual ano e mês (ex: 2020-01): ')\n",
    "        date = df_glpi['Data']#'Relatório da '+data+'.csv'\n",
    "        df_solu[date >= data].groupby(['Area'])['Título'].value_counts().to_csv(filedialog.asksaveasfilename(defaultextension='.csv'),\n",
    "                                                                                sep=';', encoding = 'utf-8-sig')\n",
    "\n",
    "        messagebox.showinfo('Caixa de Messagem', 'Relatóro da '+data+' foi gerado')\n",
    "        \n",
    "\n",
    "janelaRaiz = tk.Tk()\n",
    "janelaRaiz.title('UEMA GLPI')#Define o título da janela\n",
    "janelaRaiz.geometry('500x300')\n",
    "Tela(janelaRaiz)\n",
    "janelaRaiz.configure(background = \"#dde\")\n",
    "janelaRaiz.mainloop()"
   ]
  },
  {
   "cell_type": "code",
   "execution_count": null,
   "metadata": {},
   "outputs": [],
   "source": []
  }
 ],
 "metadata": {
  "accelerator": "GPU",
  "colab": {
   "name": "UEMA.ipynb",
   "provenance": []
  },
  "kernelspec": {
   "display_name": "Python 3 (ipykernel)",
   "language": "python",
   "name": "python3"
  },
  "language_info": {
   "codemirror_mode": {
    "name": "ipython",
    "version": 3
   },
   "file_extension": ".py",
   "mimetype": "text/x-python",
   "name": "python",
   "nbconvert_exporter": "python",
   "pygments_lexer": "ipython3",
   "version": "3.9.16"
  }
 },
 "nbformat": 4,
 "nbformat_minor": 1
}
